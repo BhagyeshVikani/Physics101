{
 "cells": [
  {
   "cell_type": "code",
   "execution_count": 1,
   "metadata": {},
   "outputs": [],
   "source": [
    "import time\n",
    "\n",
    "import imageio\n",
    "import collections\n",
    "\n",
    "import numpy as np\n",
    "import tensorflow as tf\n",
    "\n",
    "import matplotlib.pyplot as plt\n",
    "\n",
    "import PIL.Image\n",
    "from io import BytesIO\n",
    "from IPython.display import clear_output, Image, display\n",
    "\n",
    "%matplotlib inline"
   ]
  },
  {
   "cell_type": "code",
   "execution_count": 2,
   "metadata": {},
   "outputs": [],
   "source": [
    "def animate(mass, position):\n",
    "    image = np.zeros((1024, 1024))\n",
    "    position = np.round(position).astype(np.int32)\n",
    "    for i in range(len(mass)):\n",
    "        temp_position = position[i]\n",
    "        temp_mass = mass[i][0]\n",
    "        \n",
    "        image[np.maximum(temp_position[0] - temp_mass//2, 0) : np.minimum(temp_position[0] + temp_mass//2, 1024), \n",
    "              np.maximum(temp_position[1] - temp_mass//2, 0) : np.minimum(temp_position[1] + temp_mass//2, 1024)] = 255\n",
    "        image = np.uint8(np.clip(image, 0, 255))\n",
    "    \n",
    "    file = BytesIO()\n",
    "    PIL.Image.fromarray(image).save(file, 'jpeg')\n",
    "    clear_output(wait = True)\n",
    "    display(Image(data=file.getvalue()))\n",
    "\n",
    "    return image"
   ]
  },
  {
   "cell_type": "code",
   "execution_count": 3,
   "metadata": {},
   "outputs": [],
   "source": [
    "DIMENSIONS = 2"
   ]
  },
  {
   "cell_type": "code",
   "execution_count": 4,
   "metadata": {},
   "outputs": [],
   "source": [
    "f_initial = tf.placeholder(shape=[None, DIMENSIONS], dtype=tf.float32)\n",
    "v_initial = tf.placeholder(shape=[None, DIMENSIONS], dtype=tf.float32)\n",
    "x_initial = tf.placeholder(shape=[None, DIMENSIONS], dtype=tf.float32)\n",
    "\n",
    "f = tf.Variable(f_initial, dtype=tf.float32, validate_shape=False)\n",
    "\n",
    "m = tf.placeholder(shape=[None, 1], dtype=tf.float32)\n",
    "\n",
    "a = tf.Variable(tf.zeros_like(f_initial), validate_shape=False)\n",
    "v = tf.Variable(v_initial, dtype=tf.float32, validate_shape=False)\n",
    "x = tf.Variable(x_initial, dtype=tf.float32, validate_shape=False)\n",
    "\n",
    "t_h = tf.placeholder(shape=[], dtype=tf.float32)\n",
    "t_s = tf.placeholder(shape=[], dtype=tf.int32)\n",
    "\n",
    "t = tf.Variable(0, dtype=tf.int32)"
   ]
  },
  {
   "cell_type": "code",
   "execution_count": 5,
   "metadata": {},
   "outputs": [],
   "source": [
    "def loop_condition(i, p):\n",
    "    return i < p.t_s\n",
    "\n",
    "def loop_body(i, p):\n",
    "    is_collide = tf.logical_or(p.x < p.m / 2.0, p.x > 1024 - p.m / 2.0)\n",
    "\n",
    "    f_ = p.f * tf.pow(-1.0, tf.cast(is_collide, dtype=tf.float32))\n",
    "    \n",
    "    a_ = f_ / p.m\n",
    "\n",
    "    v_ = p.v * tf.pow(-1.0, tf.cast(is_collide, dtype=tf.float32)) + a_ * p.t_h\n",
    "    \n",
    "    x_ = p.x + v_ * p.t_h\n",
    "\n",
    "    return i + 1, Pair(f_, p.m, a_, v_, x_, p.t_h, p.t_s)\n",
    "\n",
    "Pair = collections.namedtuple('Pair', 'f, m, a, v, x, t_h, t_s')\n",
    "loop_vars = (t, Pair(f, m, a, v, x, t_h, t_s))\n",
    "\n",
    "simulate = tf.while_loop(loop_condition, loop_body, loop_vars=loop_vars)"
   ]
  },
  {
   "cell_type": "code",
   "execution_count": 6,
   "metadata": {},
   "outputs": [
    {
     "name": "stdout",
     "output_type": "stream",
     "text": [
      "(5000, Pair(f=array([[0.1, 0. ],\n",
      "       [0. , 0.1],\n",
      "       [0.1, 0.1],\n",
      "       [0.1, 0. ],\n",
      "       [0. , 0.1],\n",
      "       [0.1, 0.1]], dtype=float32), m=array([[10.],\n",
      "       [ 5.],\n",
      "       [ 2.],\n",
      "       [10.],\n",
      "       [ 5.],\n",
      "       [ 2.]], dtype=float32), a=array([[0.01, 0.  ],\n",
      "       [0.  , 0.02],\n",
      "       [0.05, 0.05],\n",
      "       [0.01, 0.  ],\n",
      "       [0.  , 0.02],\n",
      "       [0.05, 0.05]], dtype=float32), v=array([[1.0999572, 0.       ],\n",
      "       [5.       , 1.9998825],\n",
      "       [7.4996376, 5.1998053],\n",
      "       [1.0999572, 0.       ],\n",
      "       [5.       , 1.9998825],\n",
      "       [7.4996376, 5.1998053]], dtype=float32), x=array([[572.00836, 512.     ],\n",
      "       [627.9951 , 228.01776],\n",
      "       [756.0319 , 526.0453 ],\n",
      "       [572.00836, 512.     ],\n",
      "       [627.9951 , 228.01776],\n",
      "       [756.0319 , 526.0453 ]], dtype=float32), t_h=0.02, t_s=5000))\n",
      "0.28153371810913086\n"
     ]
    }
   ],
   "source": [
    "start_time = time.time()\n",
    "\n",
    "force_0 = np.array([[0.1, 0.0], [0.0, 0.1], [0.1, 0.1], [0.1, 0.0], [0.0, 0.1], [0.1, 0.1]], dtype=np.float32)\n",
    "velocity_0 = np.array([[0.1, 0], [5, 0.0], [2.5, 0.2], [0.1, 0], [5, 0.0], [2.5, 0.2]], dtype=np.float32)\n",
    "position_0 = np.array([[512, 512], [128, 128], [256, 256], [512, 512], [128, 128], [256, 256]])\n",
    "\n",
    "mass = [[10], [5], [2], [10], [5], [2]]\n",
    "time_horizon = 0.02\n",
    "number_horizon = int(100 / time_horizon)\n",
    "\n",
    "gif_frames = []\n",
    "\n",
    "with tf.Session() as sess:\n",
    "    sess.run(tf.global_variables_initializer(), \n",
    "             feed_dict={f_initial:force_0, \n",
    "                        v_initial:velocity_0, \n",
    "                        x_initial:position_0})\n",
    "    print(sess.run(simulate, feed_dict={m:mass, t_h:time_horizon, t_s:number_horizon})) \n",
    "\n",
    "execution_time = time.time() - start_time\n",
    "print(execution_time)"
   ]
  }
 ],
 "metadata": {
  "kernelspec": {
   "display_name": "Python 3",
   "language": "python",
   "name": "python3"
  },
  "language_info": {
   "codemirror_mode": {
    "name": "ipython",
    "version": 3
   },
   "file_extension": ".py",
   "mimetype": "text/x-python",
   "name": "python",
   "nbconvert_exporter": "python",
   "pygments_lexer": "ipython3",
   "version": "3.6.6"
  }
 },
 "nbformat": 4,
 "nbformat_minor": 2
}
