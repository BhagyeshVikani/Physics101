{
 "cells": [
  {
   "cell_type": "code",
   "execution_count": 1,
   "metadata": {},
   "outputs": [],
   "source": [
    "import time\n",
    "\n",
    "import imageio\n",
    "import collections\n",
    "\n",
    "import numpy as np\n",
    "import tensorflow as tf\n",
    "\n",
    "import matplotlib.pyplot as plt\n",
    "\n",
    "import PIL.Image\n",
    "from io import BytesIO\n",
    "from IPython.display import clear_output, Image, display\n",
    "\n",
    "%matplotlib inline"
   ]
  },
  {
   "cell_type": "code",
   "execution_count": 2,
   "metadata": {},
   "outputs": [],
   "source": [
    "def animate(mass, position):\n",
    "    image = np.zeros((1024, 1024))\n",
    "    position = np.round(position).astype(np.int32)\n",
    "    mass = mass.astype(np.int32)\n",
    "        \n",
    "    for i in range(len(mass)):\n",
    "        temp_position = position[i]\n",
    "        temp_mass = mass[i][0]\n",
    "\n",
    "        image[np.maximum(temp_position[0] - temp_mass//2, 0) : np.minimum(temp_position[0] + temp_mass//2, 1024), \n",
    "              np.maximum(temp_position[1] - temp_mass//2, 0) : np.minimum(temp_position[1] + temp_mass//2, 1024)] = 255\n",
    "        image = np.uint8(np.clip(image, 0, 255))\n",
    "    \n",
    "    file = BytesIO()\n",
    "    PIL.Image.fromarray(image).save(file, 'jpeg')\n",
    "    clear_output(wait = True)\n",
    "    display(Image(data=file.getvalue()))\n",
    "\n",
    "    return image"
   ]
  },
  {
   "cell_type": "code",
   "execution_count": 3,
   "metadata": {},
   "outputs": [],
   "source": [
    "DIMENSIONS = 2"
   ]
  },
  {
   "cell_type": "code",
   "execution_count": 4,
   "metadata": {},
   "outputs": [
    {
     "name": "stderr",
     "output_type": "stream",
     "text": [
      "/home/bhagyesh/envs/research/local/lib/python3.6/site-packages/ipykernel_launcher.py:8: RuntimeWarning: invalid value encountered in true_divide\n",
      "  \n",
      "/home/bhagyesh/envs/research/local/lib/python3.6/site-packages/ipykernel_launcher.py:10: RuntimeWarning: invalid value encountered in true_divide\n",
      "  # Remove the CWD from sys.path while we load stuff.\n"
     ]
    },
    {
     "data": {
      "text/plain": [
       "array([[ -0.32   ,  -0.79625],\n",
       "       [ 40.32   ,   0.64   ],\n",
       "       [-40.     ,   0.15625]])"
      ]
     },
     "execution_count": 4,
     "metadata": {},
     "output_type": "execute_result"
    }
   ],
   "source": [
    "m = np.array([[10], [20], [2]])\n",
    "x = np.array([[1, 2], [2, 4], [1, 4]])\n",
    "x = x[:, None, :]\n",
    "\n",
    "r = x.transpose(1, 0, 2) - x\n",
    "\n",
    "f = np.multiply(m.T, m) - np.diag(m.reshape((-1)) ** 2)\n",
    "f = f / np.power(np.sum(np.square(r), axis=2), 3)\n",
    "\n",
    "r_hat = r / np.sum(np.square(r), axis=2, keepdims=True)\n",
    "f = np.nansum(np.multiply(f[:, :, None], r_hat), axis=0)\n",
    "\n",
    "f"
   ]
  },
  {
   "cell_type": "code",
   "execution_count": 5,
   "metadata": {},
   "outputs": [],
   "source": [
    "f_initial = tf.placeholder(shape=[None, DIMENSIONS], dtype=tf.float32)\n",
    "v_initial = tf.placeholder(shape=[None, DIMENSIONS], dtype=tf.float32)\n",
    "x_initial = tf.placeholder(shape=[None, DIMENSIONS], dtype=tf.float32)\n",
    "\n",
    "force = tf.Variable(f_initial, dtype=tf.float32, validate_shape=False)\n",
    "\n",
    "m = tf.placeholder(shape=[None, 1], dtype=tf.float32)\n",
    "\n",
    "G = tf.constant(6.67259, dtype=tf.float32)\n",
    "\n",
    "acceleration = tf.Variable(tf.zeros_like(f_initial), validate_shape=False)\n",
    "velocity = tf.Variable(v_initial, dtype=tf.float32, validate_shape=False)\n",
    "position = tf.Variable(x_initial, dtype=tf.float32, validate_shape=False)\n",
    "\n",
    "t_h = tf.placeholder(shape=[], dtype=tf.float32)\n",
    "t_s = tf.placeholder(shape=[], dtype=tf.int32)\n",
    "\n",
    "t = tf.Variable(0, dtype=tf.int32)"
   ]
  },
  {
   "cell_type": "code",
   "execution_count": 6,
   "metadata": {},
   "outputs": [],
   "source": [
    "is_collide = tf.logical_or(position < m / 2.0, position > 1024 - m / 2.0)\n",
    "\n",
    "x = tf.expand_dims(position, axis=1)\n",
    "\n",
    "r = x - tf.transpose(x, perm=[1, 0, 2])\n",
    "r_magnitude = tf.sqrt(tf.reduce_sum(tf.square(r), axis=2, keepdims=True))\n",
    "r_hat = r / r_magnitude\n",
    "\n",
    "f = tf.matmul(tf.transpose(m), m) * G\n",
    "f = tf.multiply(tf.expand_dims(f, axis=2), r_hat)\n",
    "f = f / tf.square(r_magnitude)\n",
    "\n",
    "f = tf.where(tf.is_nan(f), tf.zeros_like(f), f)\n",
    "f = tf.reduce_sum(f, axis=0)\n",
    "\n",
    "f_ = f * tf.pow(-1.0, tf.cast(is_collide, dtype=tf.float32))\n",
    "\n",
    "a_ = f_ / m\n",
    "\n",
    "v_ = velocity * tf.pow(-1.0, tf.cast(is_collide, dtype=tf.float32)) + a_ * t_h\n",
    "\n",
    "x_ = position + v_ * t_h\n",
    "\n",
    "step = tf.group(force.assign(f_), \n",
    "                acceleration.assign(a_), \n",
    "                velocity.assign(v_), \n",
    "                position.assign(x_))"
   ]
  },
  {
   "cell_type": "code",
   "execution_count": 7,
   "metadata": {},
   "outputs": [
    {
     "data": {
      "image/jpeg": "[encoded data removed]",
      "text/plain": [
       "<IPython.core.display.Image object>"
      ]
     },
     "metadata": {},
     "output_type": "display_data"
    },
    {
     "name": "stdout",
     "output_type": "stream",
     "text": [
      "50.688074827194214\n"
     ]
    }
   ],
   "source": [
    "start_time = time.time()\n",
    "\n",
    "force_0 = np.array([[0.0, 0.0], [0.0, 0.0]], dtype=np.float32)\n",
    "velocity_0 = np.array([[0.0, 0.0], [0.1, 0.1]], dtype=np.float32)\n",
    "position_0 = np.array([[512, 512], [128, 128]])\n",
    "\n",
    "mass = np.array([[100], [5]])\n",
    "time_horizon = 1\n",
    "number_horizon = int(1000 / time_horizon)\n",
    "\n",
    "gif_frames = []\n",
    "\n",
    "with tf.Session() as sess:\n",
    "    for i in range(number_horizon):\n",
    "        sess.run(tf.global_variables_initializer(), \n",
    "                 feed_dict={f_initial:force_0, \n",
    "                            v_initial:velocity_0, \n",
    "                            x_initial:position_0})\n",
    "        sess.run(step, feed_dict={m:mass, t_h:time_horizon, t_s:i})\n",
    "        temp = sess.run([force, position])\n",
    "        animate(mass, temp[1])\n",
    "        \n",
    "execution_time = time.time() - start_time\n",
    "print(execution_time)"
   ]
  },
  {
   "cell_type": "code",
   "execution_count": null,
   "metadata": {},
   "outputs": [],
   "source": []
  }
 ],
 "metadata": {
  "kernelspec": {
   "display_name": "Python 3",
   "language": "python",
   "name": "python3"
  },
  "language_info": {
   "codemirror_mode": {
    "name": "ipython",
    "version": 3
   },
   "file_extension": ".py",
   "mimetype": "text/x-python",
   "name": "python",
   "nbconvert_exporter": "python",
   "pygments_lexer": "ipython3",
   "version": "3.6.5"
  }
 },
 "nbformat": 4,
 "nbformat_minor": 2
}
