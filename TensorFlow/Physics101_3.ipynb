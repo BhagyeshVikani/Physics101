{
 "cells": [
  {
   "cell_type": "code",
   "execution_count": 1,
   "metadata": {},
   "outputs": [],
   "source": [
    "import time\n",
    "\n",
    "import imageio\n",
    "import collections\n",
    "\n",
    "import numpy as np\n",
    "import tensorflow as tf\n",
    "\n",
    "import matplotlib.pyplot as plt\n",
    "\n",
    "import PIL.Image\n",
    "from io import BytesIO\n",
    "from IPython.display import clear_output, Image, display\n",
    "\n",
    "%matplotlib inline"
   ]
  },
  {
   "cell_type": "code",
   "execution_count": 2,
   "metadata": {},
   "outputs": [],
   "source": [
    "def animate(mass, position):\n",
    "    image = np.zeros((1024, 1024))\n",
    "    position = np.round(position).astype(np.int32)\n",
    "    mass = mass.astype(np.int32)\n",
    "        \n",
    "    for i in range(len(mass)):\n",
    "        temp_position = position[i]\n",
    "        temp_mass = mass[i][0]\n",
    "\n",
    "        image[np.maximum(temp_position[0] - temp_mass//2, 0) : np.minimum(temp_position[0] + temp_mass//2, 1024), \n",
    "              np.maximum(temp_position[1] - temp_mass//2, 0) : np.minimum(temp_position[1] + temp_mass//2, 1024)] = 255\n",
    "        image = np.uint8(np.clip(image, 0, 255))\n",
    "    \n",
    "    file = BytesIO()\n",
    "    PIL.Image.fromarray(image).save(file, 'jpeg')\n",
    "    clear_output(wait = True)\n",
    "    display(Image(data=file.getvalue()))\n",
    "\n",
    "    return image"
   ]
  },
  {
   "cell_type": "code",
   "execution_count": 3,
   "metadata": {},
   "outputs": [],
   "source": [
    "DIMENSIONS = 2"
   ]
  },
  {
   "cell_type": "code",
   "execution_count": 4,
   "metadata": {},
   "outputs": [
    {
     "name": "stderr",
     "output_type": "stream",
     "text": [
      "/home/bhagyesh/envs/research/local/lib/python3.6/site-packages/ipykernel_launcher.py:7: RuntimeWarning: invalid value encountered in true_divide\n",
      "  import sys\n",
      "/home/bhagyesh/envs/research/local/lib/python3.6/site-packages/ipykernel_launcher.py:10: RuntimeWarning: invalid value encountered in true_divide\n",
      "  # Remove the CWD from sys.path while we load stuff.\n"
     ]
    }
   ],
   "source": [
    "m = np.array([[10], [20], [2]])\n",
    "x = np.array([[1, 2], [2, 4], [1, 4]])\n",
    "x = x[:, None, :]\n",
    "\n",
    "r = x - x.transpose(1, 0, 2)\n",
    "r_magnitude = np.sqrt(np.sum(np.square(r), axis=2))\n",
    "r_hat = r / np.expand_dims(r_magnitude, axis=2)\n",
    "\n",
    "f = np.matmul(m, m.T) - np.diag(m.reshape((-1)) ** 2)\n",
    "f = f / np.square(r_magnitude)\n",
    "\n",
    "f = np.nansum(np.multiply(np.expand_dims(f, axis=2), r_hat), axis=1)"
   ]
  },
  {
   "cell_type": "code",
   "execution_count": 5,
   "metadata": {},
   "outputs": [
    {
     "data": {
      "text/plain": [
       "array([[-17.88854382, -40.77708764],\n",
       "       [ 57.88854382,  35.77708764],\n",
       "       [-40.        ,   5.        ]])"
      ]
     },
     "execution_count": 5,
     "metadata": {},
     "output_type": "execute_result"
    }
   ],
   "source": [
    "f"
   ]
  },
  {
   "cell_type": "code",
   "execution_count": 6,
   "metadata": {},
   "outputs": [],
   "source": [
    "f_initial = tf.placeholder(shape=[None, DIMENSIONS], dtype=tf.float32)\n",
    "v_initial = tf.placeholder(shape=[None, DIMENSIONS], dtype=tf.float32)\n",
    "x_initial = tf.placeholder(shape=[None, DIMENSIONS], dtype=tf.float32)\n",
    "\n",
    "force = tf.Variable(f_initial, dtype=tf.float32, validate_shape=False)\n",
    "\n",
    "m = tf.placeholder(shape=[None, 1], dtype=tf.float32)\n",
    "\n",
    "G = tf.constant(6.67259, dtype=tf.float32)\n",
    "\n",
    "acceleration = tf.Variable(tf.zeros_like(f_initial), validate_shape=False)\n",
    "velocity = tf.Variable(v_initial, dtype=tf.float32, validate_shape=False)\n",
    "position = tf.Variable(x_initial, dtype=tf.float32, validate_shape=False)\n",
    "\n",
    "t_h = tf.placeholder(shape=[], dtype=tf.float32)\n",
    "t_s = tf.placeholder(shape=[], dtype=tf.int32)\n",
    "\n",
    "t = tf.Variable(0, dtype=tf.int32)"
   ]
  },
  {
   "cell_type": "code",
   "execution_count": 11,
   "metadata": {},
   "outputs": [],
   "source": [
    "def loop_condition(i, p):\n",
    "    return i < p.t_s\n",
    "\n",
    "def loop_body(i, p):\n",
    "    is_collide = tf.logical_or(p.x < p.m / 2.0, p.x > 1024 - p.m / 2.0)\n",
    "    \n",
    "    x = tf.expand_dims(p.x, axis=1)\n",
    "    r = x - tf.transpose(x, perm=[1, 0, 2])\n",
    "    r_magnitude = tf.sqrt(tf.reduce_sum(tf.square(r), axis=2))\n",
    "    r_hat = -r / tf.expand_dims(r_magnitude, axis=2)\n",
    "    \n",
    "    f = tf.matmul(p.m, tf.transpose(p.m)) - tf.diag(tf.square(tf.reshape(p.m, shape=[-1])))\n",
    "    f = f * p.G\n",
    "    f = f / tf.square(r_magnitude)\n",
    "    f = tf.multiply(tf.expand_dims(f, axis=2), r_hat)\n",
    "    \n",
    "    f = tf.where(tf.is_nan(f), tf.zeros_like(f), f)\n",
    "    f = tf.reduce_sum(f, axis=1)\n",
    "\n",
    "    f_ = f\n",
    "    \n",
    "    a_ = f_ / p.m\n",
    "\n",
    "    v_ = p.v + a_ * p.t_h\n",
    "\n",
    "    x_ = p.x + v_ * p.t_h\n",
    "\n",
    "    return i + 1, Pair(f_, p.m, a_, v_, x_, p.G, p.t_h, p.t_s)\n",
    "\n",
    "Pair = collections.namedtuple('Pair', 'f, m, a, v, x, G, t_h, t_s')\n",
    "loop_vars = (t, Pair(force, m, acceleration, velocity, position, G, t_h, t_s))\n",
    "\n",
    "simulate = tf.while_loop(loop_condition, loop_body, loop_vars=loop_vars)"
   ]
  },
  {
   "cell_type": "code",
   "execution_count": 16,
   "metadata": {
    "scrolled": false
   },
   "outputs": [
    {
     "data": {
      "image/jpeg": "[encoded data removed]",
      "text/plain": [
       "<IPython.core.display.Image object>"
      ]
     },
     "metadata": {},
     "output_type": "display_data"
    },
    {
     "name": "stdout",
     "output_type": "stream",
     "text": [
      "140.90071845054626\n"
     ]
    }
   ],
   "source": [
    "start_time = time.time()\n",
    "\n",
    "force_0 = np.array([[0.0, 0.0], [0.0, 0.0]], dtype=np.float32)\n",
    "velocity_0 = np.array([[-1.0, 0.0], [0.0, 0.0]], dtype=np.float32)\n",
    "position_0 = np.array([[512, 512], [256, 256]])\n",
    "\n",
    "mass = np.array([[100], [5]])\n",
    "time_horizon = 0.1\n",
    "number_horizon = int(10 / time_horizon)\n",
    "\n",
    "gif_frames = []\n",
    "\n",
    "with tf.Session() as sess:\n",
    "    for i in range(number_horizon):\n",
    "        sess.run(tf.global_variables_initializer(), \n",
    "                 feed_dict={f_initial:force_0, \n",
    "                            v_initial:velocity_0, \n",
    "                            x_initial:position_0})\n",
    "        temp = sess.run(simulate, feed_dict={m:mass, t_h:time_horizon, t_s:i})\n",
    "        print(temp[1].f)\n",
    "        animate(mass, temp[1].x)\n",
    "        \n",
    "execution_time = time.time() - start_time\n",
    "print(execution_time)"
   ]
  }
 ],
 "metadata": {
  "kernelspec": {
   "display_name": "Python 3",
   "language": "python",
   "name": "python3"
  },
  "language_info": {
   "codemirror_mode": {
    "name": "ipython",
    "version": 3
   },
   "file_extension": ".py",
   "mimetype": "text/x-python",
   "name": "python",
   "nbconvert_exporter": "python",
   "pygments_lexer": "ipython3",
   "version": "3.6.5"
  }
 },
 "nbformat": 4,
 "nbformat_minor": 2
}
