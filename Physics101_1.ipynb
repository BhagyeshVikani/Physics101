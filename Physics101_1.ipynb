{
 "cells": [
  {
   "cell_type": "code",
   "execution_count": 1,
   "metadata": {},
   "outputs": [],
   "source": [
    "import imageio\n",
    "\n",
    "import numpy as np\n",
    "import tensorflow as tf\n",
    "\n",
    "import matplotlib.pyplot as plt\n",
    "\n",
    "import PIL.Image\n",
    "from io import BytesIO\n",
    "from IPython.display import clear_output, Image, display\n",
    "\n",
    "%matplotlib inline"
   ]
  },
  {
   "cell_type": "code",
   "execution_count": 2,
   "metadata": {},
   "outputs": [],
   "source": [
    "def animate(mass, position):\n",
    "    image = np.zeros((1024, 1024))\n",
    "    position = np.round(position).astype(np.int64)\n",
    "    image[np.maximum(position[0] - mass, 0) : np.minimum(position[0] + mass, 1024), \n",
    "          np.maximum(position[1] - mass, 0) : np.minimum(position[1] + mass, 1024)] = 255\n",
    "    image = np.uint8(np.clip(image, 0, 255))\n",
    "    \n",
    "#     assert(np.sum(image==255) < (2*mass+1)**2, 'sfsdjfldkf')\n",
    "#     file = BytesIO()\n",
    "#     PIL.Image.fromarray(image).save(file, 'jpeg')\n",
    "#     clear_output(wait = True)\n",
    "#     display(Image(data=file.getvalue()))\n",
    "    return image"
   ]
  },
  {
   "cell_type": "code",
   "execution_count": 3,
   "metadata": {},
   "outputs": [],
   "source": [
    "DIMENSIONS = 2"
   ]
  },
  {
   "cell_type": "code",
   "execution_count": 4,
   "metadata": {},
   "outputs": [],
   "source": [
    "f_initial = tf.placeholder(shape=[DIMENSIONS], dtype=tf.float64)\n",
    "v_initial = tf.placeholder(shape=[DIMENSIONS], dtype=tf.float64)\n",
    "x_initial = tf.placeholder(shape=[DIMENSIONS], dtype=tf.float64)\n",
    "\n",
    "f = tf.Variable(f_initial, dtype=tf.float64)\n",
    "\n",
    "m = tf.placeholder(shape=[], dtype=tf.float64)\n",
    "\n",
    "a = tf.Variable(np.zeros((DIMENSIONS)), dtype=tf.float64)\n",
    "v = tf.Variable(v_initial, dtype=tf.float64)\n",
    "x = tf.Variable(x_initial, dtype=tf.float64)\n",
    "\n",
    "t = tf.Variable(0.0, dtype=tf.float64)\n",
    "\n",
    "t_h = tf.placeholder(shape=[], dtype=tf.float64)"
   ]
  },
  {
   "cell_type": "code",
   "execution_count": 5,
   "metadata": {},
   "outputs": [],
   "source": [
    "f_ = f * tf.cast(tf.pow(-1, tf.cast(tf.logical_or(x < m, x > 1024 - m), dtype=tf.int32)), dtype=tf.float64)\n",
    "a_ = f_ / m\n",
    "v_ = v * tf.cast(tf.pow(-1, tf.cast(tf.logical_or(x < m, x > 1024 - m), dtype=tf.int32)), dtype=tf.float64)\n",
    "v_ = v_ + (a_ * t) * t_h\n",
    "x_ = x + (v_ * t) * t_h\n",
    "t_ = t + 1\n",
    "step = tf.group(f.assign(f_), \n",
    "                a.assign(a_), \n",
    "                v.assign(v_), \n",
    "                x.assign(x_), \n",
    "                t.assign(t_))"
   ]
  },
  {
   "cell_type": "code",
   "execution_count": 6,
   "metadata": {},
   "outputs": [],
   "source": [
    "force_0 = np.array([0.0, 0.0], dtype=np.float64)\n",
    "velocity_0 = np.array([1, 1.01], dtype=np.float64)\n",
    "position_0 = np.array([512, 512])\n",
    "\n",
    "mass = 10\n",
    "time_horizon = 0.1\n",
    "number_horizon = int(100 / time_horizon)\n",
    "\n",
    "gif_frames = []\n",
    "\n",
    "with tf.Session() as sess:\n",
    "    sess.run(tf.global_variables_initializer(), \n",
    "             feed_dict={f_initial:force_0, \n",
    "                        v_initial:velocity_0, \n",
    "                        x_initial:position_0})\n",
    "    for i in range(number_horizon):\n",
    "        sess.run(step, feed_dict={m:mass, t_h:time_horizon})\n",
    "        x1, x2, x3, x4 = sess.run([f, a, v, x])\n",
    "        gif_frames.append(animate(mass, x4))\n",
    "        \n",
    "imageio.mimsave('movie.gif', gif_frames)"
   ]
  }
 ],
 "metadata": {
  "kernelspec": {
   "display_name": "Python 3",
   "language": "python",
   "name": "python3"
  },
  "language_info": {
   "codemirror_mode": {
    "name": "ipython",
    "version": 3
   },
   "file_extension": ".py",
   "mimetype": "text/x-python",
   "name": "python",
   "nbconvert_exporter": "python",
   "pygments_lexer": "ipython3",
   "version": "3.6.5"
  }
 },
 "nbformat": 4,
 "nbformat_minor": 2
}
